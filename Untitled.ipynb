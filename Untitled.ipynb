{
 "cells": [
  {
   "cell_type": "code",
   "execution_count": 58,
   "id": "2d8d0569-f1d6-44e7-8f8d-8f38d19c3095",
   "metadata": {},
   "outputs": [
    {
     "ename": "SyntaxError",
     "evalue": "invalid syntax (2334569969.py, line 21)",
     "output_type": "error",
     "traceback": [
      "  \u001b[36mCell\u001b[39m\u001b[36m \u001b[39m\u001b[32mIn[58]\u001b[39m\u001b[32m, line 21\u001b[39m\n\u001b[31m    \u001b[39m\u001b[31mg=graph():\u001b[39m\n             ^\n\u001b[31mSyntaxError\u001b[39m\u001b[31m:\u001b[39m invalid syntax\n"
     ]
    }
   ],
   "source": [
    "import math\n",
    "class graph:\n",
    "    def_int(self)\n",
    "    self.graph(start,u,v)\n",
    "    self.graph[u]=[]\n",
    "    self.graph[v]=[]\n",
    "    self.graph[u].append[v]\n",
    "    self.graph[v].append[u]\n",
    "    def_bfs([start])\n",
    "    startnode(state)\n",
    "    a,b=state\n",
    "    queue=dequepopleft()\n",
    "    if state is visited:\n",
    "        visited.add(state)\n",
    "        while queue:\n",
    "            visited.add(state)\n",
    "            if neighbour is not visited:\n",
    "                visited.append(neighbour)\n",
    "                queue.append(neighbour)\n",
    "                print(start,u,v)\n",
    "                g=graph():\n",
    "                g.add_edge(1,2)\n",
    "                g.add_edge(1,3)\n",
    "                g.add_edge(2,4)\n",
    "                g.add_edge(2,5)\n",
    "                g.add_edge(3,6)\n",
    "                g.add_edge(4,7)\n",
    "                print(\"breadth first search using node 1:\")\n",
    "            "
   ]
  },
  {
   "cell_type": "code",
   "execution_count": null,
   "id": "f78bd12a-c4a1-44f8-9dff-d6e6642f34eb",
   "metadata": {},
   "outputs": [],
   "source": []
  },
  {
   "cell_type": "code",
   "execution_count": null,
   "id": "7bb9929c-5ce9-4903-a653-e0a5eca4ba2c",
   "metadata": {},
   "outputs": [],
   "source": []
  }
 ],
 "metadata": {
  "kernelspec": {
   "display_name": "Python 3 (ipykernel)",
   "language": "python",
   "name": "python3"
  },
  "language_info": {
   "codemirror_mode": {
    "name": "ipython",
    "version": 3
   },
   "file_extension": ".py",
   "mimetype": "text/x-python",
   "name": "python",
   "nbconvert_exporter": "python",
   "pygments_lexer": "ipython3",
   "version": "3.13.3"
  }
 },
 "nbformat": 4,
 "nbformat_minor": 5
}
